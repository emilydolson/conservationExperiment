{
 "cells": [
  {
   "cell_type": "code",
   "execution_count": 1,
   "metadata": {
    "collapsed": false
   },
   "outputs": [],
   "source": [
    "import avidaspatial as avsp\n",
    "import glob\n",
    "import matplotlib\n",
    "import matplotlib.pyplot as plt\n",
    "%matplotlib inline\n",
    "#matplotlib.rcParams.update({'font.size': 2})"
   ]
  },
  {
   "cell_type": "code",
   "execution_count": 2,
   "metadata": {
    "collapsed": true
   },
   "outputs": [],
   "source": [
    "#Handle sorting in numerical order\n",
    "#From http://stackoverflow.com/questions/5967500/how-to-correctly-sort-a-string-with-a-number-inside\n",
    "\n",
    "import re\n",
    "\n",
    "def atoi(text):\n",
    "    return int(text) if text.isdigit() else text\n",
    "\n",
    "def natural_keys(text):\n",
    "    '''\n",
    "    alist.sort(key=natural_keys) sorts in human order\n",
    "    http://nedbatchelder.com/blog/200712/human_sorting.html\n",
    "    (See Toothy's implementation in the comments)\n",
    "    '''\n",
    "    return [ atoi(c) for c in re.split('(\\d+)', text) ]"
   ]
  },
  {
   "cell_type": "code",
   "execution_count": 3,
   "metadata": {
    "collapsed": true
   },
   "outputs": [],
   "source": [
    "env_files = glob.glob(\"/home/emily/hpcc/conservation/configs/*environment.cfg\")"
   ]
  },
  {
   "cell_type": "code",
   "execution_count": 4,
   "metadata": {
    "collapsed": false
   },
   "outputs": [],
   "source": [
    "env_files.remove(\"/home/emily/hpcc/conservation/configs/conservation-initial-environment.cfg\")\n",
    "env_files.remove(\"/home/emily/hpcc/conservation/configs/conservation-0patches-environment.cfg\")\n",
    "env_files.remove(\"/home/emily/hpcc/conservation/configs/conservation-singlelarge-environment.cfg\")\n",
    "\n"
   ]
  },
  {
   "cell_type": "code",
   "execution_count": 16,
   "metadata": {
    "collapsed": false
   },
   "outputs": [
    {
     "name": "stdout",
     "output_type": "stream",
     "text": [
      "/home/emily/hpcc/conservation/configs/conservation-1patches_30each-environment.cfg\n",
      "0\n",
      "Warning: world phenotypes don't correspond to phenotypes\n",
      "/home/emily/hpcc/conservation/configs/conservation-4patches_15each-environment.cfg\n",
      "1\n",
      "Warning: world phenotypes don't correspond to phenotypes\n",
      "/home/emily/hpcc/conservation/configs/conservation-9patches_10each-environment.cfg\n",
      "2\n",
      "Warning: world phenotypes don't correspond to phenotypes\n",
      "/home/emily/hpcc/conservation/configs/conservation-25patches_6each-environment.cfg\n",
      "3\n",
      "Warning: world phenotypes don't correspond to phenotypes\n",
      "/home/emily/hpcc/conservation/configs/conservation-36patches_5each-environment.cfg\n",
      "4\n",
      "Warning: world phenotypes don't correspond to phenotypes\n",
      "/home/emily/hpcc/conservation/configs/conservation-100patches_3each-environment.cfg\n",
      "5\n",
      "Warning: world phenotypes don't correspond to phenotypes\n",
      "/home/emily/hpcc/conservation/configs/conservation-225patches_2each-environment.cfg\n",
      "6\n",
      "Warning: world phenotypes don't correspond to phenotypes\n",
      "/home/emily/hpcc/conservation/configs/conservation-900patches_1each-environment.cfg\n",
      "7\n",
      "Warning: world phenotypes don't correspond to phenotypes\n"
     ]
    },
    {
     "data": {
      "image/png": "[encoded data removed]",
      "text/plain": [
       "<matplotlib.figure.Figure at 0x7fb9c78274d0>"
      ]
     },
     "metadata": {},
     "output_type": "display_data"
    }
   ],
   "source": [
    "labels = [\"1 (30 by 30)\", \"4 (15 by 15)\", \"9 (10 by 10)\", \"25 (6 by 6)\", \"36 (5 by 5)\", \n",
    "         \"100 (3 by 3)\", \"225 (2 by 2)\", \"900 (1 by 1)\"]\n",
    "\n",
    "\n",
    "env_files.sort(key=natural_keys)\n",
    "for i,ef in enumerate(env_files):\n",
    "    print(ef)\n",
    "    print(i)\n",
    "    sub = plt.subplot(2,4,i+1)\n",
    "    env = avsp.parse_environment_file(ef)\n",
    "    avsp.plot_world(avsp.convert_world_to_phenotype(env))\n",
    "    \n",
    "    #From http://stackoverflow.com/questions/2027592/draw-a-border-around-subplots-in-matplotlib\n",
    "    autoAxis = sub.axis()\n",
    "    rec = plt.Rectangle((autoAxis[0],autoAxis[2]),(autoAxis[1]-autoAxis[0]),(autoAxis[3]-autoAxis[2]),fill=False,lw=2)\n",
    "    rec = sub.add_patch(rec)\n",
    "    rec.set_clip_on(False)\n",
    "    plt.xlabel(labels[i], fontsize=14)\n",
    "    #plt.gca().label_size\n",
    "    \n",
    "plt.tight_layout()\n",
    "plt.gcf().set_size_inches(7, 4)\n",
    "plt.gcf().set_dpi(1000)\n",
    "plt.savefig(\"reserves.png\")"
   ]
  },
  {
   "cell_type": "code",
   "execution_count": null,
   "metadata": {
    "collapsed": false
   },
   "outputs": [],
   "source": []
  }
 ],
 "metadata": {
  "kernelspec": {
   "display_name": "Python 2",
   "language": "python",
   "name": "python2"
  },
  "language_info": {
   "codemirror_mode": {
    "name": "ipython",
    "version": 2
   },
   "file_extension": ".py",
   "mimetype": "text/x-python",
   "name": "python",
   "nbconvert_exporter": "python",
   "pygments_lexer": "ipython2",
   "version": "2.7.6"
  }
 },
 "nbformat": 4,
 "nbformat_minor": 0
}
